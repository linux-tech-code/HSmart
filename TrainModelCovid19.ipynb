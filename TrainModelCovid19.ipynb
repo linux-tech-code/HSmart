{
  "nbformat": 4,
  "nbformat_minor": 0,
  "metadata": {
    "colab": {
      "name": "TrainModelCovid19.ipynb",
      "provenance": [],
      "include_colab_link": true
    },
    "kernelspec": {
      "name": "python3",
      "display_name": "Python 3"
    }
  },
  "cells": [
    {
      "cell_type": "markdown",
      "metadata": {
        "id": "view-in-github",
        "colab_type": "text"
      },
      "source": [
        "<a href=\"https://colab.research.google.com/github/linux-tech-code/HSmart/blob/HSmartDemo/TrainModelCovid19.ipynb\" target=\"_parent\"><img src=\"https://colab.research.google.com/assets/colab-badge.svg\" alt=\"Open In Colab\"/></a>"
      ]
    },
    {
      "cell_type": "code",
      "metadata": {
        "id": "vmxH7W7HqsQO",
        "colab_type": "code",
        "colab": {}
      },
      "source": [
        "model.compile(optimizer = 'adam', loss = 'binary_crossentropy', metrics = ['accuracy'])\n",
        "history = model.fit(train_generator,\n",
        "                              steps_per_epoch = train_generator.samples //BATCH_SIZE,\n",
        "                              validation_data=validation_generator,\n",
        "                              epochs=EPOCHS,\n",
        "                              validation_steps= validation_generator.samples //BATCH_SIZE,\n",
        "                              callbacks = [callbacks]\n",
        "                                     )"
      ],
      "execution_count": null,
      "outputs": []
    },
    {
      "cell_type": "code",
      "metadata": {
        "id": "TNGyCVj-qzkV",
        "colab_type": "code",
        "colab": {}
      },
      "source": [
        "plt.figure(figsize=(17,17))\n",
        "plt.subplot(2, 2, 1)\n",
        "plt.plot(history.history['loss'], label='Loss')\n",
        "plt.plot(history.history['val_loss'], label='Validation Loss')\n",
        "plt.legend()\n",
        "plt.title('Training - Loss Function')\n",
        "\n",
        "plt.subplot(2, 2, 2)\n",
        "plt.plot(history.history['accuracy'], label='Accuracy')\n",
        "plt.plot(history.history['val_accuracy'], label='Validation Accuracy')\n",
        "plt.legend()\n",
        "plt.title('Train - Accuracy')\n",
        "\n",
        "plt.legend()\n",
        "plt.title('Metrics estimations')"
      ],
      "execution_count": null,
      "outputs": []
    }
  ]
}