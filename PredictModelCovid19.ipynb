{
  "nbformat": 4,
  "nbformat_minor": 0,
  "metadata": {
    "colab": {
      "name": "PredictModelCovid19.ipynb",
      "provenance": [],
      "authorship_tag": "ABX9TyOucxsxvKeF1oIRJEHJRIBS",
      "include_colab_link": true
    },
    "kernelspec": {
      "name": "python3",
      "display_name": "Python 3"
    }
  },
  "cells": [
    {
      "cell_type": "markdown",
      "metadata": {
        "id": "view-in-github",
        "colab_type": "text"
      },
      "source": [
        "<a href=\"https://colab.research.google.com/github/linux-tech-code/HSmart/blob/HSmartDemo/PredictModelCovid19.ipynb\" target=\"_parent\"><img src=\"https://colab.research.google.com/assets/colab-badge.svg\" alt=\"Open In Colab\"/></a>"
      ]
    },
    {
      "cell_type": "code",
      "metadata": {
        "id": "uIUSwHY4pfnp",
        "colab_type": "code",
        "colab": {}
      },
      "source": [
        "pred= model.predict(validation_generator)\n",
        "predicted_class_indices=np.argmax(pred,axis=1)\n",
        "labels = (validation_generator.class_indices)\n",
        "labels2 = dict((v,k) for k,v in labels.items())\n",
        "predictions = [labels2[k] for k in predicted_class_indices]"
      ],
      "execution_count": null,
      "outputs": []
    }
  ]
}